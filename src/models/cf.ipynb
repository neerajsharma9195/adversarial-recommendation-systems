{
 "metadata": {
  "language_info": {
   "codemirror_mode": {
    "name": "ipython",
    "version": 3
   },
   "file_extension": ".py",
   "mimetype": "text/x-python",
   "name": "python",
   "nbconvert_exporter": "python",
   "pygments_lexer": "ipython3",
   "version": "3.8.8"
  },
  "orig_nbformat": 2,
  "kernelspec": {
   "name": "python388jvsc74a57bd0c007a4e0d0f258157840fd176e1733c4e13965f7f79a366aed71cbc50b2f14e9",
   "display_name": "Python 3.8.8 64-bit ('696DS': conda)",
   "language": "python"
  },
  "metadata": {
   "interpreter": {
    "hash": "c007a4e0d0f258157840fd176e1733c4e13965f7f79a366aed71cbc50b2f14e9"
   }
  }
 },
 "nbformat": 4,
 "nbformat_minor": 2,
 "cells": [
  {
   "cell_type": "code",
   "execution_count": 1,
   "metadata": {},
   "outputs": [],
   "source": [
    "from surprise_cf import *\n",
    "from cf_utils import *"
   ]
  },
  {
   "cell_type": "code",
   "execution_count": 2,
   "metadata": {},
   "outputs": [
    {
     "output_type": "stream",
     "name": "stdout",
     "text": [
      "loading the data...downloaded in 7 seconds\n"
     ]
    }
   ],
   "source": [
    "masked_R_coo, unmasked_R_coo, keep_item_idxs = get_data_from_dataloader()\n",
    "mask_coo = sparse.coo_matrix(logical_xor(masked_R_coo, unmasked_R_coo))\n",
    "\n",
    "nnzs = masked_R_coo.getnnz(axis=1)\n",
    "warm_users = nnzs > 2"
   ]
  },
  {
   "cell_type": "code",
   "execution_count": 3,
   "metadata": {},
   "outputs": [
    {
     "output_type": "stream",
     "name": "stdout",
     "text": [
      "num users total =  62926\nnum cold start users =  35946\n"
     ]
    }
   ],
   "source": [
    "# generated_users_file = '/mnt/nfs/scratch1/neerajsharma/model_params/generated_1000_user_neighbors_more_sparse.npy'\n",
    "# generated_items_file = '/mnt/nfs/scratch1/neerajsharma/model_params/generated_1000_item_neighbors_more_sparse.npy'\n",
    "# generated_users = np.load(generated_users_file, allow_pickle=True).item()\n",
    "# generated_items = np.load(generated_items_file, allow_pickle=True).item()\n",
    "# for key, value in generated_users.items():\n",
    "#     generated_users[key] = value[:,keep_item_idxs]\n",
    "# num_user_ids = len(generated_users.keys())\n",
    "# num_item_ids = len(generated_items.keys())\n",
    "# user_neighbor_per_id, user_neighbor_dim = generated_users[list(generated_users.keys())[0]].shape\n",
    "# item_neighbor_per_id, item_neighbor_dim = generated_items[list(generated_items.keys())[0]].shape\n",
    "# num_generated_users = num_user_ids * user_neighbor_per_id\n",
    "# num_generated_items = num_item_ids * item_neighbor_per_id\n",
    "\n",
    "# generated_users_vectors = np.array([v for v in generated_users.values()]).reshape(num_generated_users, user_neighbor_dim)\n",
    "# generated_users_coo = sparse.coo_matrix(generated_users_vectors)\n",
    "# false_coo = sparse.coo_matrix(np.zeros_like(generated_users_vectors, dtype=bool))\n",
    "# masked_R_coo = sparse.vstack([masked_R_coo, generated_users_coo])\n",
    "# unmasked_R_coo = sparse.vstack([unmasked_R_coo, generated_users_coo])\n",
    "# mask_coo = sparse.vstack([mask_coo, false_coo])\n",
    "\n",
    "# generated_items_vectors = np.array([v for v in generated_items.values()]).reshape(num_generated_items, item_neighbor_dim)\n",
    "# filler = np.zeros((num_generated_items, num_generated_users))\n",
    "# generated_items_vectors = np.concatenate((generated_items_vectors, filler), axis=1)\n",
    "# false_coo = sparse.coo_matrix(np.zeros_like(generated_items_vectors.T, dtype=bool))\n",
    "# generated_items_coo = sparse.coo_matrix(generated_items_vectors.T)\n",
    "\n",
    "# masked_R_coo = sparse.hstack([masked_R_coo, generated_items_coo])\n",
    "# unmasked_R_coo = sparse.hstack([unmasked_R_coo, generated_items_coo])\n",
    "# mask_coo = sparse.hstack([mask_coo, false_coo])\n",
    "# # aug = True\n",
    "# generated_users, generated_items = None, None\n",
    "\n",
    "mask_csr = mask_coo.tocsr()\n",
    "unmasked_vals_csr = unmasked_R_coo.multiply(mask_coo)\n",
    "unmasked_vals_coo = sparse.coo_matrix(unmasked_vals_csr)\n",
    "unmasked_cold_coo = only_cold_start(masked_R_coo, unmasked_vals_coo, warm_users)\n",
    "ks = [1, 2, 3, 4, 5, 6, 7, 8, 9, 10, 15]\n"
   ]
  },
  {
   "cell_type": "code",
   "execution_count": 4,
   "metadata": {},
   "outputs": [
    {
     "output_type": "stream",
     "name": "stdout",
     "text": [
      "make train and test sets...done in 1 seconds\n"
     ]
    }
   ],
   "source": [
    "algo = SVD(verbose=False)\n",
    "trainset, testset, cold_testset = setup(masked_R_coo, unmasked_vals_coo, unmasked_cold_coo)\n"
   ]
  },
  {
   "cell_type": "code",
   "execution_count": 5,
   "metadata": {},
   "outputs": [
    {
     "output_type": "execute_result",
     "data": {
      "text/plain": [
       "<surprise.prediction_algorithms.matrix_factorization.SVD at 0x2aabca49b3a0>"
      ]
     },
     "metadata": {},
     "execution_count": 5
    }
   ],
   "source": [
    "algo.fit(trainset)"
   ]
  },
  {
   "cell_type": "code",
   "execution_count": 6,
   "metadata": {},
   "outputs": [],
   "source": [
    "predictions = algo.test(testset)"
   ]
  },
  {
   "cell_type": "code",
   "execution_count": 7,
   "metadata": {},
   "outputs": [],
   "source": [
    "model = Model(name='SVD', algo=SVD(verbose=False), ks=ks, ground_truth=unmasked_vals_coo, mask=mask_coo, ground_truth_cold=unmasked_cold_coo)"
   ]
  },
  {
   "cell_type": "code",
   "execution_count": 8,
   "metadata": {},
   "outputs": [
    {
     "output_type": "stream",
     "name": "stdout",
     "text": [
      "training  SVD ... done in  11 seconds\n"
     ]
    }
   ],
   "source": [
    "model.train(trainset)"
   ]
  },
  {
   "cell_type": "code",
   "execution_count": 17,
   "metadata": {},
   "outputs": [
    {
     "output_type": "stream",
     "name": "stdout",
     "text": [
      "evaluating all users SVD ... evaluating cold users SVD ... "
     ]
    }
   ],
   "source": [
    "model.predict(testset, cold_testset)\n",
    "model.evaluate_all_users()"
   ]
  },
  {
   "cell_type": "code",
   "execution_count": 10,
   "metadata": {},
   "outputs": [],
   "source": [
    "full_prediction_matrix = np.dot(model.algo.pu, model.algo.qi.T)"
   ]
  },
  {
   "cell_type": "code",
   "execution_count": 11,
   "metadata": {},
   "outputs": [],
   "source": [
    "%reload_ext autoreload\n",
    "model.get_diy_predictions(trainset.global_mean)"
   ]
  },
  {
   "cell_type": "code",
   "execution_count": 18,
   "metadata": {},
   "outputs": [
    {
     "output_type": "stream",
     "name": "stdout",
     "text": [
      "0.7396750905267852 0.6855819499332642\n1.0215817211995444 0.9739931308149864\n"
     ]
    }
   ],
   "source": [
    "mae, rmse = MAE_and_RMSE(model.full_prediction_matrix, model.ground_truth, model.mask)\n",
    "print(mae, model.mae)\n",
    "print(rmse, model.rmse)"
   ]
  },
  {
   "cell_type": "code",
   "execution_count": 24,
   "metadata": {},
   "outputs": [
    {
     "output_type": "stream",
     "name": "stdout",
     "text": [
      "training  bias only ... done in  1 seconds\n",
      "evaluating all users bias only ... evaluating cold users bias only ... "
     ]
    }
   ],
   "source": [
    "bias_model =  Model(name='bias only', algo=BaselineOnly(verbose=False, bsl_options = {'method': 'sgd','learning_rate': .00005,}), ks=ks)\n",
    "bias_model.train(trainset)\n",
    "bias_model.predict(testset, cold_testset)\n",
    "bias_model.evaluate_all_users()\n"
   ]
  },
  {
   "cell_type": "code",
   "execution_count": 26,
   "metadata": {
    "tags": []
   },
   "outputs": [],
   "source": [
    "preds = np.zeros_like(model.full_prediction_matrix)\n",
    "for pred in bias_model.predictions:\n",
    "    u, i, v = pred[0], pred[1], pred[2]\n",
    "    preds[u,i] = v"
   ]
  },
  {
   "cell_type": "code",
   "execution_count": 29,
   "metadata": {},
   "outputs": [
    {
     "output_type": "stream",
     "name": "stdout",
     "text": [
      "0.0 0.757013384004379\n0.0 1.017178792304042\n"
     ]
    }
   ],
   "source": [
    "mae, rmse = MAE_and_RMSE(preds, model.ground_truth, model.mask)\n",
    "print(mae, bias_model.mae)\n",
    "print(rmse, bias_model.rmse)"
   ]
  }
 ]
}