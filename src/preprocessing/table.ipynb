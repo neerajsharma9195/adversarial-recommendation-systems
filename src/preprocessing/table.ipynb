{
 "cells": [
  {
   "cell_type": "code",
   "execution_count": 1,
   "metadata": {},
   "outputs": [
    {
     "name": "stderr",
     "output_type": "stream",
     "text": [
      "[nltk_data] Downloading package punkt to /home/tianyiyang/nltk_data...\n",
      "[nltk_data]   Package punkt is already up-to-date!\n"
     ]
    },
    {
     "name": "stdout",
     "output_type": "stream",
     "text": [
      "torch.Size([1, 768])\n"
     ]
    },
    {
     "name": "stderr",
     "output_type": "stream",
     "text": [
      "[nltk_data] Downloading package punkt to /home/tianyiyang/nltk_data...\n",
      "[nltk_data]   Package punkt is already up-to-date!\n"
     ]
    }
   ],
   "source": [
    "import tables as tb\n",
    "\n",
    "import pandas as pd\n",
    "import numpy as np\n",
    "import gzip\n",
    "import json\n",
    "import os\n",
    "\n",
    "from nltk import ngrams\n",
    "from collections import Counter\n",
    "\n",
    "import preprocessing\n",
    "from review_embeddings import get_embedding"
   ]
  },
  {
   "cell_type": "code",
   "execution_count": 2,
   "metadata": {},
   "outputs": [],
   "source": [
    "DATASET_DIR = \"/mnt/nfs/scratch1/neerajsharma/amazon_data/\"\n",
    "META_PREFIX = \"meta_\"\n",
    "REVIEW_PREFIX = \"review_\"\n",
    "HDF5_DATASET = \"dataset.h5\"\n",
    "DATASET_NAME = {\n",
    "    'phone': 'Cell_Phones_and_Accessories.json.gz',\n",
    "    'beauty': 'All_Beauty.json.gz',                     # haven't downloaded yet\n",
    "    'food': 'Grocery_and_Gourmet_Food.json.gz'\n",
    "}"
   ]
  },
  {
   "cell_type": "code",
   "execution_count": 8,
   "metadata": {},
   "outputs": [],
   "source": [
    "data_name = 'food'\n",
    "df = preprocessing.getAmazonData('food', 100)\n",
    "preprocessing.save_review_dataset(data_name=data_name, dataset=df, dir='./')"
   ]
  },
  {
   "cell_type": "code",
   "execution_count": 11,
   "metadata": {},
   "outputs": [
    {
     "name": "stdout",
     "output_type": "stream",
     "text": [
      "./dataset.h5 (File) ''\n",
      "Last modif.: 'Fri Mar 12 03:59:30 2021'\n",
      "Object Tree: \n",
      "/ (RootGroup) ''\n",
      "/food (Group) ''\n",
      "/food/Review (Table(100,)) '{data_name}: Review'\n",
      "\n",
      "\n",
      "reviewerID: A104QC37VBWVOG\n",
      "summary: type-<class 'numpy.ndarray'>, shape-(1, 768)\n",
      "reviewText: type-<class 'numpy.ndarray'>, shape-(1, 768)\n",
      "\n",
      "reviewerID: A11PRA5SXVFU9O\n",
      "summary: type-<class 'numpy.ndarray'>, shape-(1, 768)\n",
      "reviewText: type-<class 'numpy.ndarray'>, shape-(1, 768)\n",
      "\n",
      "reviewerID: A13W40MYGIET1I\n",
      "summary: type-<class 'numpy.ndarray'>, shape-(1, 768)\n",
      "reviewText: type-<class 'numpy.ndarray'>, shape-(1, 768)\n",
      "\n",
      "reviewerID: A14MJZP7H1KHEX\n",
      "summary: type-<class 'numpy.ndarray'>, shape-(1, 768)\n",
      "reviewText: type-<class 'numpy.ndarray'>, shape-(1, 768)\n",
      "\n",
      "reviewerID: A165AME4SLYDWD\n",
      "summary: type-<class 'numpy.ndarray'>, shape-(1, 768)\n",
      "reviewText: type-<class 'numpy.ndarray'>, shape-(1, 768)\n",
      "\n"
     ]
    }
   ],
   "source": [
    "# Read Review Data\n",
    "with tb.open_file(os.path.join('./', HDF5_DATASET), 'r') as h5f:\n",
    "    print(h5f)\n",
    "    print()\n",
    "    table = h5f.root[data_name]['Review']\n",
    "    for i, row in enumerate(table.iterrows()):\n",
    "        if i == 5:\n",
    "            break\n",
    "        print(f\"reviewerID: {row['reviewerID'].decode('utf-8')}\")\n",
    "        print(f\"summary: type-{type(row['summary'])}, shape-{row['summary'].shape}\")\n",
    "        print(f\"reviewText: type-{type(row['reviewText'])}, shape-{row['reviewText'].shape}\\n\")\n"
   ]
  }
 ],
 "metadata": {
  "kernelspec": {
   "display_name": "Python 3.9.2 64-bit ('696ds': conda)",
   "name": "python392jvsc74a57bd0ace4d44eac2e7e40a0d49a39d0327809e34998babf341fa7b89e7f058bea5b85"
  },
  "language_info": {
   "codemirror_mode": {
    "name": "ipython",
    "version": 3
   },
   "file_extension": ".py",
   "mimetype": "text/x-python",
   "name": "python",
   "nbconvert_exporter": "python",
   "pygments_lexer": "ipython3",
   "version": "3.8.8"
  },
  "metadata": {
   "interpreter": {
    "hash": "ace4d44eac2e7e40a0d49a39d0327809e34998babf341fa7b89e7f058bea5b85"
   }
  },
  "orig_nbformat": 2
 },
 "nbformat": 4,
 "nbformat_minor": 2
}