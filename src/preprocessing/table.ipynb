{
 "cells": [
  {
   "cell_type": "code",
   "execution_count": 1,
   "metadata": {},
   "outputs": [
    {
     "name": "stderr",
     "output_type": "stream",
     "text": [
      "[nltk_data] Downloading package punkt to /home/tianyiyang/nltk_data...\n",
      "[nltk_data]   Package punkt is already up-to-date!\n",
      "[nltk_data] Downloading package punkt to /home/tianyiyang/nltk_data...\n",
      "[nltk_data]   Package punkt is already up-to-date!\n",
      "[nltk_data] Downloading package punkt to /home/tianyiyang/nltk_data...\n",
      "[nltk_data]   Package punkt is already up-to-date!\n"
     ]
    },
    {
     "name": "stdout",
     "output_type": "stream",
     "text": [
      "torch.Size([1, 768])\n"
     ]
    }
   ],
   "source": [
    "import tables as tb\n",
    "\n",
    "import pandas as pd\n",
    "import numpy as np\n",
    "import gzip\n",
    "import json\n",
    "import os\n",
    "\n",
    "from nltk import ngrams\n",
    "from collections import Counter\n",
    "\n",
    "import preprocessing\n",
    "from review_embeddings import get_embedding"
   ]
  },
  {
   "cell_type": "code",
   "execution_count": 2,
   "metadata": {},
   "outputs": [],
   "source": [
    "DATASET_DIR = \"/mnt/nfs/scratch1/neerajsharma/amazon_data/\"\n",
    "META_PREFIX = \"meta_\"\n",
    "REVIEW_PREFIX = \"review_\"\n",
    "HDF5_DATASET = \"dataset.h5\"\n",
    "DATASET_NAME = {\n",
    "    'phone': 'Cell_Phones_and_Accessories.json.gz',\n",
    "    'beauty': 'All_Beauty.json.gz',                     # haven't downloaded yet\n",
    "    'food': 'Grocery_and_Gourmet_Food.json.gz'\n",
    "}"
   ]
  },
  {
   "cell_type": "code",
   "execution_count": 17,
   "metadata": {},
   "outputs": [],
   "source": [
    "data_name = 'food'\n",
    "df = preprocessing.getAmazonData('food', 1000000)\n",
    "# preprocessing.save_review_dataset(data_name=data_name, dataset=df, dir='./')"
   ]
  },
  {
   "cell_type": "code",
   "execution_count": 8,
   "metadata": {},
   "outputs": [],
   "source": [
    "#Method for fast conversion from a pytables array to a numpy array\n",
    "def fast_conversion(hdfarray):\n",
    "\ta=np.empty(shape=hdfarray.shape,dtype=hdfarray.dtype)\n",
    "\ta[:]=hdfarray[:]\n",
    "\treturn a"
   ]
  },
  {
   "cell_type": "code",
   "execution_count": 9,
   "metadata": {},
   "outputs": [
    {
     "name": "stdout",
     "output_type": "stream",
     "text": [
      "/mnt/nfs/scratch1/neerajsharma/amazon_data/dataset.h5 (File) ''\n",
      "Last modif.: 'Fri Mar 19 18:45:07 2021'\n",
      "Object Tree: \n",
      "/ (RootGroup) ''\n",
      "/food (Group) ''\n",
      "/food/Interactions (CArray(157277, 6903), shuffle, zlib(5)) ''\n",
      "/food/Review (Table(157277,)) '{data_name}: Review'\n",
      "\n",
      "\n",
      "reviewerID: A0004478EF5NFPHLGCWG\n",
      "reviewText: type-<class 'numpy.ndarray'>, shape-(1, 128)\n",
      "\n",
      "reviewerID: A00408825PVJW7GFLEGU\n",
      "reviewText: type-<class 'numpy.ndarray'>, shape-(1, 128)\n",
      "\n",
      "reviewerID: A0096681Y127OL1H8W3U\n",
      "reviewText: type-<class 'numpy.ndarray'>, shape-(1, 128)\n",
      "\n",
      "reviewerID: A014338896MBOX5BLUOF\n",
      "reviewText: type-<class 'numpy.ndarray'>, shape-(1, 128)\n",
      "\n",
      "reviewerID: A0172362OTLRVK4CSFHQ\n",
      "reviewText: type-<class 'numpy.ndarray'>, shape-(1, 128)\n",
      "\n",
      "[[0. 0. 0. ... 0. 0. 0.]\n",
      " [0. 0. 0. ... 0. 0. 0.]\n",
      " [0. 0. 0. ... 0. 0. 0.]\n",
      " ...\n",
      " [0. 0. 0. ... 0. 0. 0.]\n",
      " [0. 0. 0. ... 0. 0. 0.]\n",
      " [0. 0. 0. ... 0. 0. 0.]]\n"
     ]
    }
   ],
   "source": [
    "# Read Review Data\n",
    "data_name = 'food'\n",
    "with tb.open_file(os.path.join(DATASET_DIR, HDF5_DATASET), 'r') as h5f:\n",
    "    print(h5f)\n",
    "    print()\n",
    "    table = h5f.root[data_name]['Review']\n",
    "    for i, row in enumerate(table.iterrows()):\n",
    "        if i == 5:\n",
    "            break\n",
    "        print(f\"reviewerID: {row['reviewerID'].decode('utf-8')}\")\n",
    "        # print(f\"summary: type-{type(row['summary'])}, shape-{row['summary'].shape}\")\n",
    "        print(f\"reviewText: type-{type(row['reviewText'])}, shape-{row['reviewText'].shape}\\n\")\n",
    "    array = fast_conversion(h5f.root[data_name]['Interactions'])\n",
    "    print(array)\n"
   ]
  },
  {
   "cell_type": "code",
   "execution_count": 18,
   "metadata": {},
   "outputs": [],
   "source": [
    "df = df[df['asin'].map(df['asin'].value_counts()) >= 5]\n",
    "df = df[df['reviewerID'].map(df['reviewerID'].value_counts()) >= 3]\n",
    "df = df[df['reviewText'].notnull() | (df['reviewText'] == \"  \") | (df['reviewText'] == \" \") ]"
   ]
  },
  {
   "cell_type": "code",
   "execution_count": 20,
   "metadata": {},
   "outputs": [
    {
     "data": {
      "text/plain": "8601"
     },
     "execution_count": 20,
     "metadata": {},
     "output_type": "execute_result"
    }
   ],
   "source": [
    "df.asin.nunique()"
   ]
  }
 ],
 "metadata": {
  "kernelspec": {
   "display_name": "Python 3.8.8 64-bit",
   "name": "python392jvsc74a57bd0ace4d44eac2e7e40a0d49a39d0327809e34998babf341fa7b89e7f058bea5b85"
  },
  "language_info": {
   "codemirror_mode": {
    "name": "ipython",
    "version": 3
   },
   "file_extension": ".py",
   "mimetype": "text/x-python",
   "name": "python",
   "nbconvert_exporter": "python",
   "pygments_lexer": "ipython3",
   "version": "3.8.8"
  },
  "metadata": {
   "interpreter": {
    "hash": "ace4d44eac2e7e40a0d49a39d0327809e34998babf341fa7b89e7f058bea5b85"
   }
  },
  "orig_nbformat": 2
 },
 "nbformat": 4,
 "nbformat_minor": 2
}