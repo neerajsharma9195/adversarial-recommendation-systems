{
 "cells": [
  {
   "cell_type": "code",
   "execution_count": 1,
   "metadata": {},
   "outputs": [
    {
     "output_type": "stream",
     "name": "stdout",
     "text": [
      "/mnt/nfs/scratch1/rbialik/adversarial-recommendation-systems\n"
     ]
    }
   ],
   "source": [
    "# Change the working directory\n",
    "%cd ../.."
   ]
  },
  {
   "cell_type": "code",
   "execution_count": 49,
   "metadata": {},
   "outputs": [],
   "source": [
    "import surprise\n",
    "import numpy as np\n",
    "import pandas as pd\n",
    "from scipy import sparse\n",
    "import src.cf.experiment_core as cf_core\n",
    "\n",
    "from src.cf.utils.timer import Timer\n",
    "\n",
    "from src.cf.utils.constants import (\n",
    "    DEFAULT_USER_COL,\n",
    "    DEFAULT_ITEM_COL,\n",
    "    DEFAULT_RATING_COL,\n",
    "    DEFAULT_PREDICTION_COL\n",
    ")\n",
    "\n",
    "from src.cf.evaluation.eval_metrics_numba import (\n",
    "    rmse,\n",
    "    mae,\n",
    "    precision_at_k,\n",
    "    recall_at_k\n",
    ")\n",
    "\n",
    "from src.models.surprise_cf import * \n",
    "from src.models.cf_utils import refine_ratings"
   ]
  },
  {
   "cell_type": "code",
   "execution_count": 3,
   "metadata": {},
   "outputs": [],
   "source": [
    "generated_users_file = '/mnt/nfs/scratch1/neerajsharma/model_params/generated_1000_user_neighbors_without_reviews_more_sparse.npy'\n",
    "generated_items_file = '/mnt/nfs/scratch1/neerajsharma/model_params/generated_1000_item_neighbors_without_reviews_more_sparse.npy'\n",
    "reviews_generated_users_file = '/mnt/nfs/scratch1/neerajsharma/model_params/generated_1000_user_neighbors_more_sparse.npy'\n",
    "reviews_generated_items_file = '/mnt/nfs/scratch1/neerajsharma/model_params/generated_1000_item_neighbors_more_sparse.npy'"
   ]
  },
  {
   "cell_type": "code",
   "execution_count": 18,
   "metadata": {},
   "outputs": [],
   "source": [
    "vanilla = True\n",
    "aug = True\n",
    "reviews_aug = True"
   ]
  },
  {
   "cell_type": "code",
   "execution_count": 4,
   "metadata": {},
   "outputs": [
    {
     "output_type": "stream",
     "name": "stdout",
     "text": [
      "loading the data... took 6.917295959079638 seconds for loading the dataset.\n"
     ]
    }
   ],
   "source": [
    "masked_R_coo, unmasked_R_coo, keep_item_idxs = cf_core.get_data_from_dataloader()\n",
    "mask_coo = sparse.coo_matrix(cf_core.logical_xor(masked_R_coo, unmasked_R_coo))\n",
    "\n",
    "nnzs = masked_R_coo.getnnz(axis=1)\n",
    "warm_users = nnzs > 2"
   ]
  },
  {
   "cell_type": "code",
   "execution_count": 7,
   "metadata": {},
   "outputs": [],
   "source": [
    "aug_masked_R_coo, aug_unmasked_R_coo, aug_mask_coo, generated_users, generated_items = \\\n",
    "    cf_core.make_aug_data(\n",
    "        masked_R_coo, \n",
    "        unmasked_R_coo, \n",
    "        keep_item_idxs, \n",
    "        mask_coo, warm_users, \n",
    "        generated_users_file, \n",
    "        generated_items_file)\n",
    "reviews_aug_masked_R_coo, reviews_aug_unmasked_R_coo, reviews_aug_mask_coo, reviews_generated_users, reviews_generated_items = \\\n",
    "    cf_core.make_aug_data(\n",
    "        masked_R_coo, \n",
    "        unmasked_R_coo, \n",
    "        keep_item_idxs, \n",
    "        mask_coo, warm_users, \n",
    "        reviews_generated_users_file, \n",
    "        reviews_generated_items_file)"
   ]
  },
  {
   "cell_type": "code",
   "execution_count": 14,
   "metadata": {},
   "outputs": [
    {
     "output_type": "stream",
     "name": "stdout",
     "text": [
      "\n",
      " vanilla data\n",
      "num users total =  62926\n",
      "num cold start users =  35946\n",
      "\n",
      " augmented data\n",
      "num users total =  63926\n",
      "num cold start users =  36946\n",
      "\n",
      " augmented (+review) data\n",
      "num users total =  63926\n",
      "num cold start users =  36946\n"
     ]
    }
   ],
   "source": [
    "print(\"\\n vanilla data\")\n",
    "mask_csr = mask_coo.tocsr()\n",
    "unmasked_vals_csr = unmasked_R_coo.multiply(mask_coo)\n",
    "unmasked_vals_coo = sparse.coo_matrix(unmasked_vals_csr)\n",
    "unmasked_cold_coo = cf_core.only_cold_start(masked_R_coo, unmasked_vals_coo, warm_users)\n",
    "print(\"\\n augmented data\")\n",
    "aug_mask_csr = aug_mask_coo.tocsr()\n",
    "aug_unmasked_vals_csr = aug_unmasked_R_coo.multiply(aug_mask_coo)\n",
    "aug_unmasked_vals_coo = sparse.coo_matrix(aug_unmasked_vals_csr)\n",
    "aug_unmasked_cold_coo = cf_core.only_cold_start(aug_masked_R_coo, aug_unmasked_vals_coo, warm_users)\n",
    "print(\"\\n augmented (+review) data\")\n",
    "reviews_aug_mask_csr = reviews_aug_mask_coo.tocsr()\n",
    "reviews_aug_unmasked_vals_csr = reviews_aug_unmasked_R_coo.multiply(reviews_aug_mask_coo)\n",
    "reviews_aug_unmasked_vals_coo = sparse.coo_matrix(reviews_aug_unmasked_vals_csr)\n",
    "reviews_aug_unmasked_cold_coo = cf_core.only_cold_start(reviews_aug_masked_R_coo, reviews_aug_unmasked_vals_coo, warm_users)"
   ]
  },
  {
   "cell_type": "code",
   "execution_count": 19,
   "metadata": {},
   "outputs": [
    {
     "output_type": "stream",
     "name": "stdout",
     "text": [
      "make train and test sets...done in 4 seconds\n",
      "make train and test sets...done in 8 seconds\n",
      "make train and test sets...done in 23 seconds\n"
     ]
    }
   ],
   "source": [
    "if vanilla:\n",
    "    trainset, testset, cold_testset = setup(masked_R_coo, unmasked_vals_coo, unmasked_cold_coo)\n",
    "if aug:\n",
    "    aug_trainset, aug_testset, aug_cold_testset = setup(aug_masked_R_coo, aug_unmasked_vals_coo, aug_unmasked_cold_coo)\n",
    "if reviews_aug:\n",
    "    reviews_aug_trainset, reviews_aug_testset, reviews_aug_cold_testset = setup(reviews_aug_masked_R_coo, reviews_aug_unmasked_vals_coo, reviews_aug_unmasked_cold_coo)\n"
   ]
  },
  {
   "cell_type": "code",
   "execution_count": 21,
   "metadata": {},
   "outputs": [
    {
     "output_type": "stream",
     "name": "stdout",
     "text": [
      "training  SVD ... done in  13 seconds\n"
     ]
    }
   ],
   "source": [
    "if vanilla:\n",
    "    SVD_vanilla = Model(name='SVD', algo=SVD(verbose=False), ks=5, ground_truth=unmasked_vals_coo, mask=mask_coo, ground_truth_cold=unmasked_cold_coo)\n",
    "    SVD_vanilla.train(trainset)\n",
    "    SVD_vanilla.predict(testset, cold_testset)\n",
    "    SVD_vanilla.get_diy_predictions(trainset.global_mean)"
   ]
  },
  {
   "cell_type": "code",
   "execution_count": 26,
   "metadata": {},
   "outputs": [
    {
     "output_type": "stream",
     "name": "stdout",
     "text": [
      "training  SVD_aug ... done in  301 seconds\n",
      "refining...done in 17 seconds\n"
     ]
    }
   ],
   "source": [
    "if aug:\n",
    "    SVD_aug = Model(\n",
    "        name='SVD_aug', \n",
    "        algo=SVD(verbose=False), \n",
    "        ks=5, \n",
    "        ground_truth=aug_unmasked_vals_coo, \n",
    "        mask=aug_mask_coo, \n",
    "        ground_truth_cold=aug_unmasked_cold_coo)\n",
    "\n",
    "    SVD_aug.train(aug_trainset)\n",
    "    SVD_aug.predict(aug_testset, aug_cold_testset)\n",
    "    SVD_aug.get_diy_predictions(aug_trainset.global_mean)\n",
    "    SVD_aug.refined_predictions = refine_ratings(\n",
    "        aug_trainset.ur, aug_trainset.ir, \n",
    "        SVD_aug.full_prediction_matrix, \n",
    "        generated_users,\n",
    "        generated_items, .5\n",
    "    )"
   ]
  },
  {
   "cell_type": "code",
   "execution_count": 28,
   "metadata": {},
   "outputs": [
    {
     "output_type": "stream",
     "name": "stdout",
     "text": [
      "training  SVD_reviews_aug ... done in  781 seconds\n",
      "refining...done in 18 seconds\n"
     ]
    }
   ],
   "source": [
    "if reviews_aug:\n",
    "    SVD_aug_reviews = Model(\n",
    "        name='SVD_reviews_aug', \n",
    "        algo=SVD(verbose=False), \n",
    "        ks=5, \n",
    "        ground_truth=reviews_aug_unmasked_vals_coo, \n",
    "        mask=reviews_aug_mask_coo, \n",
    "        ground_truth_cold=reviews_aug_unmasked_cold_coo)\n",
    "        \n",
    "    SVD_aug_reviews.train(reviews_aug_trainset)\n",
    "    SVD_aug_reviews.predict(reviews_aug_testset, reviews_aug_cold_testset)\n",
    "    SVD_aug_reviews.get_diy_predictions(reviews_aug_trainset.global_mean)\n",
    "    SVD_aug_reviews.refined_predictions = refine_ratings(\n",
    "        reviews_aug_trainset.ur, reviews_aug_trainset.ir, \n",
    "        SVD_aug_reviews.full_prediction_matrix, \n",
    "        reviews_generated_users,\n",
    "        reviews_generated_items, .5\n",
    "    )"
   ]
  },
  {
   "cell_type": "code",
   "execution_count": 43,
   "metadata": {},
   "outputs": [
    {
     "output_type": "stream",
     "name": "stdout",
     "text": [
      "SVD\n",
      "SVD_aug\n",
      "SVD_reviews_aug\n"
     ]
    }
   ],
   "source": [
    "models = []\n",
    "if vanilla:\n",
    "    models.append(SVD_vanilla)\n",
    "if aug:\n",
    "    models.append(SVD_aug)\n",
    "if reviews_aug:\n",
    "    models.append(SVD_aug_reviews)\n",
    "    \n",
    "for model in models:\n",
    "    print(model.name)\n",
    "    if 'aug' in model.name:\n",
    "        model.refined_rmse = rmse(model.ground_truth.toarray(), model.refined_predictions)\n",
    "        model.refined_mae = mae(model.ground_truth.toarray(), model.refined_predictions)\n",
    "    model.rmse = rmse(model.ground_truth.toarray(), model.full_prediction_matrix)\n",
    "    model.mae = mae(model.ground_truth.toarray(), model.full_prediction_matrix)"
   ]
  },
  {
   "cell_type": "code",
   "execution_count": 53,
   "metadata": {},
   "outputs": [
    {
     "output_type": "stream",
     "name": "stdout",
     "text": [
      "| all_users               |      MAE |    RMSE |\n|-------------------------|----------|---------|\n| SVD                     | 0.739702 | 1.02192 |\n| SVD_aug                 | 0.806632 | 1.09564 |\n| refined SVD_aug         | 0.806632 | 1.09564 |\n| SVD_reviews_aug         | 0.75122  | 1.10723 |\n| refined SVD_reviews_aug | 0.75122  | 1.10723 |\n"
     ]
    }
   ],
   "source": [
    "labels = []\n",
    "errors = []\n",
    "for model in models:\n",
    "    labels.append(model.name)\n",
    "    errors.append([model.mae, model.rmse])\n",
    "    if 'aug' in model.name:\n",
    "        labels.append('refined ' + model.name)\n",
    "        errors.append([model.refined_mae, model.refined_rmse])\n",
    "error_labels = ['all_users'] + ['MAE', 'RMSE']\n",
    "tab_data = [[labels[i]] + errors[i] for i in range(len(labels))]\n",
    "print(tabulate(tab_data, headers=error_labels, tablefmt=\"github\"))"
   ]
  },
  {
   "cell_type": "code",
   "execution_count": 44,
   "metadata": {},
   "outputs": [],
   "source": [
    "trainset_df = cf_core.surprise_trainset_to_df(trainset)\n",
    "trainset_uid, trainset_iid = trainset_df['userID'].to_numpy(), trainset_df['itemID'].to_numpy()\n",
    "\n",
    "aug_trainset_df = cf_core.surprise_trainset_to_df(aug_trainset)\n",
    "aug_trainset_uid, aug_trainset_iid = aug_trainset_df['userID'].to_numpy(), aug_trainset_df['itemID'].to_numpy()\n",
    "\n",
    "reviews_aug_trainset_df = cf_core.surprise_trainset_to_df(reviews_aug_trainset)\n",
    "reviews_aug_trainset_uid, reviews_aug_trainset_iid = reviews_aug_trainset_df['userID'].to_numpy(), reviews_aug_trainset_df['itemID'].to_numpy()"
   ]
  },
  {
   "cell_type": "code",
   "execution_count": 12,
   "metadata": {},
   "outputs": [
    {
     "output_type": "stream",
     "name": "stdout",
     "text": [
      "Precision@1:0.000344\n",
      "Recall@1:0.000105\n",
      "\n",
      "Precision@2:0.000336\n",
      "Recall@2:0.000210\n",
      "\n",
      "Precision@3:0.000365\n",
      "Recall@3:0.000306\n",
      "\n",
      "Precision@4:0.000438\n",
      "Recall@4:0.000473\n",
      "\n",
      "Precision@5:0.000451\n",
      "Recall@5:0.000626\n",
      "\n",
      "Precision@6:0.000433\n",
      "Recall@6:0.000750\n",
      "\n",
      "Precision@7:0.000445\n",
      "Recall@7:0.000878\n",
      "\n",
      "Precision@8:0.000438\n",
      "Recall@8:0.000995\n",
      "\n",
      "Precision@9:0.000429\n",
      "Recall@9:0.001125\n",
      "\n",
      "Precision@10:0.000430\n",
      "Recall@10:0.001256\n",
      "\n",
      "Precision@11:0.000420\n",
      "Recall@11:0.001319\n",
      "\n",
      "Precision@12:0.000405\n",
      "Recall@12:0.001377\n",
      "\n",
      "Precision@13:0.000400\n",
      "Recall@13:0.001466\n",
      "\n",
      "Precision@14:0.000398\n",
      "Recall@14:0.001576\n",
      "\n",
      "Precision@15:0.000393\n",
      "Recall@15:0.001666\n",
      "\n"
     ]
    }
   ],
   "source": [
    "for k in range(1,16):\n",
    "    eval_precision = precision_at_k(\n",
    "        groundtruth, refined_predictions, \n",
    "        trainset_uid, trainset_iid,\n",
    "        relevancy_method='top_k', k=k, threshold=0\n",
    "    )\n",
    "    eval_recall = recall_at_k(\n",
    "        groundtruth, refined_predictions, \n",
    "        trainset_uid, trainset_iid,\n",
    "        relevancy_method='top_k', k=k, threshold=0\n",
    "    )\n",
    "\n",
    "    print(f\"Precision@{k}:{eval_precision:.6f}\",\n",
    "          f\"Recall@{k}:{eval_recall:.6f}\", sep='\\n')\n",
    "    print()"
   ]
  }
 ],
 "metadata": {
  "kernelspec": {
   "name": "python388jvsc74a57bd0c007a4e0d0f258157840fd176e1733c4e13965f7f79a366aed71cbc50b2f14e9",
   "display_name": "Python 3.8.8 64-bit ('696DS': conda)"
  },
  "language_info": {
   "codemirror_mode": {
    "name": "ipython",
    "version": 3
   },
   "file_extension": ".py",
   "mimetype": "text/x-python",
   "name": "python",
   "nbconvert_exporter": "python",
   "pygments_lexer": "ipython3",
   "version": "3.8.8"
  },
  "metadata": {
   "interpreter": {
    "hash": "c007a4e0d0f258157840fd176e1733c4e13965f7f79a366aed71cbc50b2f14e9"
   }
  },
  "orig_nbformat": 2
 },
 "nbformat": 4,
 "nbformat_minor": 2
}