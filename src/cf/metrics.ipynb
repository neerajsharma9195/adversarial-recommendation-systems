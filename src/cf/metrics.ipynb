{
 "cells": [
  {
   "cell_type": "code",
   "execution_count": 1,
   "metadata": {},
   "outputs": [
    {
     "name": "stdout",
     "output_type": "stream",
     "text": [
      "/home/tianyiyang/git/adversarial-recommendation-systems\n"
     ]
    }
   ],
   "source": [
    "# Change the working directory\n",
    "%cd ../.."
   ]
  },
  {
   "cell_type": "code",
   "execution_count": 2,
   "metadata": {},
   "outputs": [],
   "source": [
    "import surprise\n",
    "import numpy as np\n",
    "import pandas as pd\n",
    "from scipy import sparse\n",
    "import src.cf.experiment_core as cf_core\n",
    "\n",
    "from src.cf.utils.timer import Timer\n",
    "\n",
    "from src.cf.utils.constants import (\n",
    "    DEFAULT_USER_COL,\n",
    "    DEFAULT_ITEM_COL,\n",
    "    DEFAULT_RATING_COL,\n",
    "    DEFAULT_PREDICTION_COL\n",
    ")\n",
    "\n",
    "from src.cf.evaluation.eval_metrics_numba import (\n",
    "    rmse,\n",
    "    mae,\n",
    "    precision_at_k,\n",
    "    recall_at_k\n",
    ")\n",
    "\n",
    "from src.models.surprise_cf import * \n",
    "from src.models.cf_utils import refine_ratings"
   ]
  },
  {
   "cell_type": "code",
   "execution_count": 3,
   "metadata": {},
   "outputs": [],
   "source": [
    "generated_users_file = '/mnt/nfs/scratch1/neerajsharma/model_params/generated_1000_user_neighbors_without_reviews_more_sparse.npy'\n",
    "generated_items_file = '/mnt/nfs/scratch1/neerajsharma/model_params/generated_1000_item_neighbors_without_reviews_more_sparse.npy'\n",
    "aug = 'yes'"
   ]
  },
  {
   "cell_type": "code",
   "execution_count": 4,
   "metadata": {},
   "outputs": [
    {
     "name": "stdout",
     "output_type": "stream",
     "text": [
      "loading the data... took 7.8991184970363975 seconds for loading the dataset.\n"
     ]
    }
   ],
   "source": [
    "masked_R_coo, unmasked_R_coo, keep_item_idxs = cf_core.get_data_from_dataloader()\n",
    "mask_coo = sparse.coo_matrix(cf_core.logical_xor(masked_R_coo, unmasked_R_coo))\n",
    "\n",
    "nnzs = masked_R_coo.getnnz(axis=1)\n",
    "warm_users = nnzs > 2"
   ]
  },
  {
   "cell_type": "code",
   "execution_count": 5,
   "metadata": {},
   "outputs": [],
   "source": [
    "if aug == 'yes':\n",
    "    generated_users = np.load(generated_users_file, allow_pickle=True).item()\n",
    "    generated_items = np.load(generated_items_file, allow_pickle=True).item()\n",
    "    for key, value in generated_users.items():\n",
    "        generated_users[key] = value[:,keep_item_idxs]\n",
    "    num_user_ids = len(generated_users.keys())\n",
    "    num_item_ids = len(generated_items.keys())\n",
    "    user_neighbor_per_id, user_neighbor_dim = generated_users[list(generated_users.keys())[0]].shape\n",
    "    item_neighbor_per_id, item_neighbor_dim = generated_items[list(generated_items.keys())[0]].shape\n",
    "    num_generated_users = num_user_ids * user_neighbor_per_id\n",
    "    num_generated_items = num_item_ids * item_neighbor_per_id\n",
    "\n",
    "    generated_users_vectors = np.array([v for v in generated_users.values()]).reshape(num_generated_users, user_neighbor_dim)\n",
    "    generated_users_coo = sparse.coo_matrix(generated_users_vectors)\n",
    "    false_coo = sparse.coo_matrix(np.zeros_like(generated_users_vectors, dtype=bool))\n",
    "    masked_R_coo = sparse.vstack([masked_R_coo, generated_users_coo])\n",
    "    unmasked_R_coo = sparse.vstack([unmasked_R_coo, generated_users_coo])\n",
    "    mask_coo = sparse.vstack([mask_coo, false_coo])\n",
    "\n",
    "    generated_items_vectors = np.array([v for v in generated_items.values()]).reshape(num_generated_items, item_neighbor_dim)\n",
    "    filler = np.zeros((num_generated_items, num_generated_users))\n",
    "    generated_items_vectors = np.concatenate((generated_items_vectors, filler), axis=1)\n",
    "    false_coo = sparse.coo_matrix(np.zeros_like(generated_items_vectors.T, dtype=bool))\n",
    "    generated_items_coo = sparse.coo_matrix(generated_items_vectors.T)\n",
    "    \n",
    "    masked_R_coo = sparse.hstack([masked_R_coo, generated_items_coo])\n",
    "    unmasked_R_coo = sparse.hstack([unmasked_R_coo, generated_items_coo])\n",
    "    mask_coo = sparse.hstack([mask_coo, false_coo])\n",
    "    aug = True\n",
    "\n",
    "else:\n",
    "    aug = False\n",
    "    generated_users, generated_items = None, None"
   ]
  },
  {
   "cell_type": "code",
   "execution_count": 6,
   "metadata": {},
   "outputs": [
    {
     "name": "stdout",
     "output_type": "stream",
     "text": [
      "num users total =  63926\n",
      "num cold start users =  36946\n"
     ]
    }
   ],
   "source": [
    "mask_csr = mask_coo.tocsr()\n",
    "unmasked_vals_csr = unmasked_R_coo.multiply(mask_coo)\n",
    "unmasked_vals_coo = sparse.coo_matrix(unmasked_vals_csr)\n",
    "unmasked_cold_coo = cf_core.only_cold_start(masked_R_coo, unmasked_vals_coo, warm_users)"
   ]
  },
  {
   "cell_type": "code",
   "execution_count": 7,
   "metadata": {},
   "outputs": [
    {
     "name": "stdout",
     "output_type": "stream",
     "text": [
      "make train and test sets...done in 27 seconds\n"
     ]
    }
   ],
   "source": [
    "trainset, testset, cold_testset = setup(masked_R_coo, unmasked_vals_coo, unmasked_cold_coo)\n",
    "model = Model(name='SVD', algo=SVD(verbose=False), ks=5, ground_truth=unmasked_vals_coo, mask=mask_coo, ground_truth_cold=unmasked_cold_coo)"
   ]
  },
  {
   "cell_type": "code",
   "execution_count": 8,
   "metadata": {},
   "outputs": [
    {
     "name": "stdout",
     "output_type": "stream",
     "text": [
      "training  SVD ... done in  800 seconds\n",
      "refining...done in 30 seconds\n"
     ]
    }
   ],
   "source": [
    "model.train(trainset)\n",
    "model.predict(testset, cold_testset)\n",
    "model.get_diy_predictions(trainset.global_mean)\n",
    "model.refined_predictions = refine_ratings(\n",
    "    trainset.ur, trainset.ir, \n",
    "    model.full_prediction_matrix, \n",
    "    generated_users,\n",
    "    generated_items, .5\n",
    ")"
   ]
  },
  {
   "cell_type": "code",
   "execution_count": 9,
   "metadata": {},
   "outputs": [],
   "source": [
    "groundtruth = model.ground_truth.toarray()\n",
    "refined_predictions = model.refined_predictions"
   ]
  },
  {
   "cell_type": "code",
   "execution_count": 10,
   "metadata": {},
   "outputs": [],
   "source": [
    "trainset_df = cf_core.surprise_trainset_to_df(trainset)\n",
    "trainset_uid, trainset_iid = trainset_df['userID'].to_numpy(), trainset_df['itemID'].to_numpy()"
   ]
  },
  {
   "cell_type": "code",
   "execution_count": 12,
   "metadata": {},
   "outputs": [
    {
     "name": "stdout",
     "output_type": "stream",
     "text": [
      "Precision@1:0.000360\n",
      "Recall@1:0.000122\n",
      "\n",
      "Precision@2:0.000321\n",
      "Recall@2:0.000211\n",
      "\n",
      "Precision@3:0.000339\n",
      "Recall@3:0.000297\n",
      "\n",
      "Precision@4:0.000422\n",
      "Recall@4:0.000490\n",
      "\n",
      "Precision@5:0.000454\n",
      "Recall@5:0.000612\n",
      "\n",
      "Precision@6:0.000467\n",
      "Recall@6:0.000760\n",
      "\n",
      "Precision@7:0.000476\n",
      "Recall@7:0.000894\n",
      "\n",
      "Precision@8:0.000448\n",
      "Recall@8:0.000969\n",
      "\n",
      "Precision@9:0.000440\n",
      "Recall@9:0.001057\n",
      "\n",
      "Precision@10:0.000449\n",
      "Recall@10:0.001223\n",
      "\n",
      "Precision@11:0.000448\n",
      "Recall@11:0.001382\n",
      "\n",
      "Precision@12:0.000450\n",
      "Recall@12:0.001530\n",
      "\n",
      "Precision@13:0.000445\n",
      "Recall@13:0.001633\n",
      "\n",
      "Precision@14:0.000445\n",
      "Recall@14:0.001765\n",
      "\n",
      "Precision@15:0.000438\n",
      "Recall@15:0.001859\n",
      "\n"
     ]
    }
   ],
   "source": [
    "for k in range(1,16):\n",
    "    eval_precision = precision_at_k(\n",
    "        groundtruth, refined_predictions, \n",
    "        trainset_uid, trainset_iid,\n",
    "        relevancy_method='top_k', k=k, threshold=0\n",
    "    )\n",
    "    eval_recall = recall_at_k(\n",
    "        groundtruth, refined_predictions, \n",
    "        trainset_uid, trainset_iid,\n",
    "        relevancy_method='top_k', k=k, threshold=0\n",
    "    )\n",
    "\n",
    "    print(f\"Precision@{k}:{eval_precision:.6f}\",\n",
    "          f\"Recall@{k}:{eval_recall:.6f}\", sep='\\n')\n",
    "    print()"
   ]
  }
 ],
 "metadata": {
  "kernelspec": {
   "display_name": "Python 3.8.8 64-bit ('696ds': conda)",
   "name": "python392jvsc74a57bd0ace4d44eac2e7e40a0d49a39d0327809e34998babf341fa7b89e7f058bea5b85"
  },
  "language_info": {
   "codemirror_mode": {
    "name": "ipython",
    "version": 3
   },
   "file_extension": ".py",
   "mimetype": "text/x-python",
   "name": "python",
   "nbconvert_exporter": "python",
   "pygments_lexer": "ipython3",
   "version": "3.8.8"
  },
  "metadata": {
   "interpreter": {
    "hash": "ace4d44eac2e7e40a0d49a39d0327809e34998babf341fa7b89e7f058bea5b85"
   }
  },
  "orig_nbformat": 2
 },
 "nbformat": 4,
 "nbformat_minor": 2
}